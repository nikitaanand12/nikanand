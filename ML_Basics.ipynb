{
  "nbformat": 4,
  "nbformat_minor": 0,
  "metadata": {
    "colab": {
      "name": "ML Basics.ipynb",
      "provenance": [],
      "authorship_tag": "ABX9TyOPQTjRgTtVhOUY8dA9iO/r",
      "include_colab_link": true
    },
    "kernelspec": {
      "name": "python3",
      "display_name": "Python 3"
    },
    "language_info": {
      "name": "python"
    }
  },
  "cells": [
    {
      "cell_type": "markdown",
      "metadata": {
        "id": "view-in-github",
        "colab_type": "text"
      },
      "source": [
        "<a href=\"https://colab.research.google.com/github/nikitaanand12/nikanand/blob/main/ML_Basics.ipynb\" target=\"_parent\"><img src=\"https://colab.research.google.com/assets/colab-badge.svg\" alt=\"Open In Colab\"/></a>"
      ]
    },
    {
      "cell_type": "code",
      "execution_count": null,
      "metadata": {
        "colab": {
          "base_uri": "https://localhost:8080/"
        },
        "id": "gJks7cLltTsm",
        "outputId": "08acce7a-8a5b-4791-b298-58458ebfee60"
      },
      "outputs": [
        {
          "output_type": "stream",
          "name": "stdout",
          "text": [
            "2\n",
            "4\n",
            "6\n",
            "8\n",
            "10\n"
          ]
        }
      ],
      "source": [
        "#1.To print all the numbers divisible by 2\n",
        "list=[1,2,3,4,5,6,7,8,9,10]\n",
        "for i in list:\n",
        "  if(i%2==0):\n",
        "    {\n",
        "        print (i)\n",
        "    }"
      ]
    },
    {
      "cell_type": "code",
      "source": [
        "#2. Print all the numbers from > 50 and < 100 for some range between 1 to 1000\n",
        "j=[i for i in range (1,1001)if i>=50 and i<=100]\n",
        "print (j)"
      ],
      "metadata": {
        "colab": {
          "base_uri": "https://localhost:8080/"
        },
        "id": "crGjxcZkt381",
        "outputId": "018e73a8-4b7e-4ea0-e35e-dad4d54c1849"
      },
      "execution_count": null,
      "outputs": [
        {
          "output_type": "stream",
          "name": "stdout",
          "text": [
            "[50, 51, 52, 53, 54, 55, 56, 57, 58, 59, 60, 61, 62, 63, 64, 65, 66, 67, 68, 69, 70, 71, 72, 73, 74, 75, 76, 77, 78, 79, 80, 81, 82, 83, 84, 85, 86, 87, 88, 89, 90, 91, 92, 93, 94, 95, 96, 97, 98, 99, 100]\n"
          ]
        }
      ]
    },
    {
      "cell_type": "code",
      "source": [
        "#3. Print the table of 5 from 1 to 30\n",
        "j=[i*5 for i in range (1,31)]\n",
        "print(j)"
      ],
      "metadata": {
        "colab": {
          "base_uri": "https://localhost:8080/"
        },
        "id": "hbDDWvLyunWY",
        "outputId": "f372eb1d-1f8c-400d-888d-2fe6f888b445"
      },
      "execution_count": null,
      "outputs": [
        {
          "output_type": "stream",
          "name": "stdout",
          "text": [
            "[5, 10, 15, 20, 25, 30, 35, 40, 45, 50, 55, 60, 65, 70, 75, 80, 85, 90, 95, 100, 105, 110, 115, 120, 125, 130, 135, 140, 145, 150]\n"
          ]
        }
      ]
    },
    {
      "cell_type": "code",
      "source": [
        "#4. String=\"i love csit department\".Count the number of vowels and consonants in the string\n",
        "string =\"i love csit department\"\n",
        "j=[]\n",
        "for i in string :\n",
        "  if(i in ['a','e','i','o','u']):\n",
        "    #j.append(i)\n",
        "    print(i)"
      ],
      "metadata": {
        "colab": {
          "base_uri": "https://localhost:8080/"
        },
        "id": "o18ZCQRKvhNZ",
        "outputId": "1a39ec25-e61e-4b4c-b505-48eaf1847cec"
      },
      "execution_count": null,
      "outputs": [
        {
          "output_type": "stream",
          "name": "stdout",
          "text": [
            "i\n",
            "o\n",
            "e\n",
            "i\n",
            "e\n",
            "a\n",
            "e\n"
          ]
        }
      ]
    },
    {
      "cell_type": "code",
      "source": [
        "#5. Print all the keys in lowercase if the value is greater than equal to 3000\n",
        "dict={'maruti':100,'suv':2000,'audi':3000,'balero':4000,'ford':6000}\n",
        "for i in dict:\n",
        "  if dict[i]>=3000:\n",
        "    print(i.lower())"
      ],
      "metadata": {
        "colab": {
          "base_uri": "https://localhost:8080/"
        },
        "id": "dTIg-_SbxVtd",
        "outputId": "33741ea4-2547-435e-bc96-0648af330b44"
      },
      "execution_count": null,
      "outputs": [
        {
          "output_type": "stream",
          "name": "stdout",
          "text": [
            "audi\n",
            "balero\n",
            "ford\n"
          ]
        }
      ]
    },
    {
      "cell_type": "code",
      "source": [
        "#6. For some range in between 1 to 1000 print even if the number is even and print odd if the no. is odd\n",
        "for i in range(121,132):\n",
        " if (i%2==0):\n",
        "   print(\"even\")\n",
        " else: \n",
        "   print(\"odd\")\n",
        "\n"
      ],
      "metadata": {
        "id": "dHxqutx6yrP4",
        "outputId": "7f636b46-66b5-4049-c4e7-c3ffc8f82911",
        "colab": {
          "base_uri": "https://localhost:8080/"
        }
      },
      "execution_count": null,
      "outputs": [
        {
          "output_type": "stream",
          "name": "stdout",
          "text": [
            "odd\n",
            "even\n",
            "odd\n",
            "even\n"
          ]
        }
      ]
    }
  ]
}